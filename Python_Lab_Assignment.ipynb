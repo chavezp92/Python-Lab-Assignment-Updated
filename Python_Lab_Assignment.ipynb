{
 "cells": [
  {
   "cell_type": "markdown",
   "metadata": {},
   "source": [
    "# PyCity Schools Analysis\n",
    "\n",
    "* As a whole, schools with higher budgets, did not yield better test results. By contrast, schools with higher spending per student actually (\\\\$645 - 675) underperformed compared to schools with smaller budgets (\\\\$585 per student).\n",
    "\n",
    "* As a whole, smaller and medium sized schools dramatically out-performed large sized schools on passing math performances (89-91% passing vs 67%).\n",
    "\n",
    "* As a whole, charter schools out-performed the public district schools across all metrics. However, more analysis will be required to glean if the effect is due to school practices or the fact that charter schools tend to serve smaller student populations per school. \n",
    "---"
   ]
  },
  {
   "cell_type": "markdown",
   "metadata": {},
   "source": [
    "**Note:**\n",
    "Instructions have been included for each segment. You do not have to follow them exactly, but they are included to help you think through the steps."
   ]
  },
  {
   "cell_type": "code",
   "execution_count": 1,
   "metadata": {
    "ExecuteTime": {
     "end_time": "2022-08-06T06:08:31.925112Z",
     "start_time": "2022-08-06T06:08:29.337754Z"
    }
   },
   "outputs": [
    {
     "data": {
      "text/html": [
       "<div>\n",
       "<style scoped>\n",
       "    .dataframe tbody tr th:only-of-type {\n",
       "        vertical-align: middle;\n",
       "    }\n",
       "\n",
       "    .dataframe tbody tr th {\n",
       "        vertical-align: top;\n",
       "    }\n",
       "\n",
       "    .dataframe thead th {\n",
       "        text-align: right;\n",
       "    }\n",
       "</style>\n",
       "<table border=\"1\" class=\"dataframe\">\n",
       "  <thead>\n",
       "    <tr style=\"text-align: right;\">\n",
       "      <th></th>\n",
       "      <th>Student ID</th>\n",
       "      <th>student_name</th>\n",
       "      <th>gender</th>\n",
       "      <th>grade</th>\n",
       "      <th>school_name</th>\n",
       "      <th>reading_score</th>\n",
       "      <th>math_score</th>\n",
       "      <th>School ID</th>\n",
       "      <th>type</th>\n",
       "      <th>size</th>\n",
       "      <th>budget</th>\n",
       "    </tr>\n",
       "  </thead>\n",
       "  <tbody>\n",
       "    <tr>\n",
       "      <th>0</th>\n",
       "      <td>0</td>\n",
       "      <td>Paul Bradley</td>\n",
       "      <td>M</td>\n",
       "      <td>9th</td>\n",
       "      <td>Huang High School</td>\n",
       "      <td>66</td>\n",
       "      <td>79</td>\n",
       "      <td>0</td>\n",
       "      <td>District</td>\n",
       "      <td>2917</td>\n",
       "      <td>1910635</td>\n",
       "    </tr>\n",
       "    <tr>\n",
       "      <th>1</th>\n",
       "      <td>1</td>\n",
       "      <td>Victor Smith</td>\n",
       "      <td>M</td>\n",
       "      <td>12th</td>\n",
       "      <td>Huang High School</td>\n",
       "      <td>94</td>\n",
       "      <td>61</td>\n",
       "      <td>0</td>\n",
       "      <td>District</td>\n",
       "      <td>2917</td>\n",
       "      <td>1910635</td>\n",
       "    </tr>\n",
       "    <tr>\n",
       "      <th>2</th>\n",
       "      <td>2</td>\n",
       "      <td>Kevin Rodriguez</td>\n",
       "      <td>M</td>\n",
       "      <td>12th</td>\n",
       "      <td>Huang High School</td>\n",
       "      <td>90</td>\n",
       "      <td>60</td>\n",
       "      <td>0</td>\n",
       "      <td>District</td>\n",
       "      <td>2917</td>\n",
       "      <td>1910635</td>\n",
       "    </tr>\n",
       "    <tr>\n",
       "      <th>3</th>\n",
       "      <td>3</td>\n",
       "      <td>Dr. Richard Scott</td>\n",
       "      <td>M</td>\n",
       "      <td>12th</td>\n",
       "      <td>Huang High School</td>\n",
       "      <td>67</td>\n",
       "      <td>58</td>\n",
       "      <td>0</td>\n",
       "      <td>District</td>\n",
       "      <td>2917</td>\n",
       "      <td>1910635</td>\n",
       "    </tr>\n",
       "    <tr>\n",
       "      <th>4</th>\n",
       "      <td>4</td>\n",
       "      <td>Bonnie Ray</td>\n",
       "      <td>F</td>\n",
       "      <td>9th</td>\n",
       "      <td>Huang High School</td>\n",
       "      <td>97</td>\n",
       "      <td>84</td>\n",
       "      <td>0</td>\n",
       "      <td>District</td>\n",
       "      <td>2917</td>\n",
       "      <td>1910635</td>\n",
       "    </tr>\n",
       "  </tbody>\n",
       "</table>\n",
       "</div>"
      ],
      "text/plain": [
       "   Student ID       student_name gender grade        school_name  \\\n",
       "0           0       Paul Bradley      M   9th  Huang High School   \n",
       "1           1       Victor Smith      M  12th  Huang High School   \n",
       "2           2    Kevin Rodriguez      M  12th  Huang High School   \n",
       "3           3  Dr. Richard Scott      M  12th  Huang High School   \n",
       "4           4         Bonnie Ray      F   9th  Huang High School   \n",
       "\n",
       "   reading_score  math_score  School ID      type  size   budget  \n",
       "0             66          79          0  District  2917  1910635  \n",
       "1             94          61          0  District  2917  1910635  \n",
       "2             90          60          0  District  2917  1910635  \n",
       "3             67          58          0  District  2917  1910635  \n",
       "4             97          84          0  District  2917  1910635  "
      ]
     },
     "execution_count": 1,
     "metadata": {},
     "output_type": "execute_result"
    }
   ],
   "source": [
    "# Dependencies and Setup\n",
    "import pandas as pd\n",
    "import numpy as np\n",
    "\n",
    "# File to Load (Remember to Change These)\n",
    "school_data_to_load = \"data/schools_complete.csv\"\n",
    "student_data_to_load = \"data/students_complete.csv\"\n",
    "\n",
    "# Read School and Student Data File and store into Pandas Data Frames\n",
    "school_data = pd.read_csv(school_data_to_load)\n",
    "student_data = pd.read_csv(student_data_to_load)\n",
    "\n",
    "# Combine the data into a single dataset\n",
    "school_data_complete = pd.merge(student_data, school_data, how=\"left\", on=[\"school_name\", \"school_name\"])\n",
    "school_data_complete.head()\n",
    "\n",
    "# school_data_complete.count()"
   ]
  },
  {
   "cell_type": "markdown",
   "metadata": {},
   "source": [
    "## District Summary\n",
    "\n",
    "* Calculate the total number of schools\n",
    "\n",
    "* Calculate the total number of students\n",
    "\n",
    "* Calculate the total budget\n",
    "\n",
    "* Calculate the average math score \n",
    "\n",
    "* Calculate the average reading score\n",
    "\n",
    "* Calculate the overall passing rate (overall average score), i.e. (avg. math score + avg. reading score)/2\n",
    "\n",
    "* Calculate the percentage of students with a passing math score (70 or greater)\n",
    "\n",
    "* Calculate the percentage of students with a passing reading score (70 or greater)\n",
    "\n",
    "* Create a dataframe to hold the above results\n",
    "\n",
    "* Optional: give the displayed data cleaner formatting"
   ]
  },
  {
   "cell_type": "code",
   "execution_count": 10,
   "metadata": {},
   "outputs": [
    {
     "name": "stdout",
     "output_type": "stream",
     "text": [
      "District Summary:\n",
      "Total Number of School: 15\n",
      "Total Number of Student: 39170\n",
      "Total Budget: $24,649,428.00\n",
      "Average Math Score: 78.99\n",
      "Average Reading Score: 81.88\n",
      "Overall Average Score: 80.43\n",
      "Percentage of Passing Math: 74.98%\n"
     ]
    }
   ],
   "source": [
    "# Create a District Summary\n",
    "print(\"District Summary:\")\n",
    "print(f\"Total Number of School: {total_school}\")\n",
    "print(f\"Total Number of Student: {total_student}\")\n",
    "print(f\"Total Budget: ${total_budget:,.2f}\")\n",
    "print(f\"Average Math Score: {average_math_score:.2f}\")\n",
    "print(f\"Average Reading Score: {average_reading_score:.2f}\")\n",
    "print(f\"Overall Average Score: {overall_average_score:.2f}\")\n",
    "print(f\"Percentage of Passing Math: {passing_math_percentage:.2f}%\")\n",
    "\n"
   ]
  },
  {
   "cell_type": "code",
   "execution_count": 3,
   "metadata": {},
   "outputs": [
    {
     "name": "stdout",
     "output_type": "stream",
     "text": [
      "Total Number of Schools: 15\n"
     ]
    }
   ],
   "source": [
    "# Total number of schools\n",
    "total_school = school_data['school_name'].nunique()\n",
    "print(f\"Total Number of Schools: {total_school}\")\n",
    "\n",
    "\n"
   ]
  },
  {
   "cell_type": "code",
   "execution_count": 4,
   "metadata": {},
   "outputs": [
    {
     "name": "stdout",
     "output_type": "stream",
     "text": [
      "Total Number of Students: 39170\n"
     ]
    }
   ],
   "source": [
    "# Total number of students\n",
    "total_student = student_data['student_name'].count()\n",
    "print(f\"Total Number of Students: {total_student}\")\n",
    "\n",
    "\n"
   ]
  },
  {
   "cell_type": "code",
   "execution_count": 5,
   "metadata": {},
   "outputs": [
    {
     "name": "stdout",
     "output_type": "stream",
     "text": [
      "Total Budget: $24,649,428.00\n"
     ]
    }
   ],
   "source": [
    "# Total budget\n",
    "total_budget = school_data['budget'].sum()\n",
    "print(f\"Total Budget: ${total_budget:,.2f}\")\n",
    "\n",
    "\n"
   ]
  },
  {
   "cell_type": "code",
   "execution_count": 6,
   "metadata": {},
   "outputs": [
    {
     "name": "stdout",
     "output_type": "stream",
     "text": [
      "Average Math Score: 78.99\n"
     ]
    }
   ],
   "source": [
    "# Average math score\n",
    "average_math_score = student_data['math_score'].mean()\n",
    "print(f\"Average Math Score: {average_math_score:.2f}\")\n",
    "\n",
    "\n",
    "\n"
   ]
  },
  {
   "cell_type": "code",
   "execution_count": 7,
   "metadata": {},
   "outputs": [
    {
     "name": "stdout",
     "output_type": "stream",
     "text": [
      "Average Reading Score: 81.88\n"
     ]
    }
   ],
   "source": [
    "# Average reading score\n",
    "average_reading_score = student_data['reading_score'].mean()\n",
    "print(f\"Average Reading Score: {average_reading_score:.2f}\")\n"
   ]
  },
  {
   "cell_type": "code",
   "execution_count": 8,
   "metadata": {},
   "outputs": [
    {
     "name": "stdout",
     "output_type": "stream",
     "text": [
      "Overall Average Score: 80.43\n"
     ]
    }
   ],
   "source": [
    "# Overall average score\n",
    "overall_average_score = (average_math_score + average_reading_score) / 2\n",
    "print(f\"Overall Average Score: {overall_average_score:.2f}\")\n",
    "\n",
    "\n"
   ]
  },
  {
   "cell_type": "code",
   "execution_count": 9,
   "metadata": {},
   "outputs": [
    {
     "name": "stdout",
     "output_type": "stream",
     "text": [
      "Percentage of Passing Math: 74.98%\n"
     ]
    }
   ],
   "source": [
    "# Percentage of passing math (70 or greater)\n",
    "passing_math_count = student_data[student_data['math_score'] >= 70]['student_name'].count()\n",
    "passing_math_percentage = (passing_math_count / total_student) * 100\n",
    "\n",
    "print(f\"Percentage of Passing Math: {passing_math_percentage:.2f}%\")\n",
    "\n",
    "\n"
   ]
  },
  {
   "cell_type": "markdown",
   "metadata": {},
   "source": [
    "## School Summary"
   ]
  },
  {
   "cell_type": "markdown",
   "metadata": {},
   "source": [
    "* Create an overview table that summarizes key metrics about each school, including:\n",
    "  * School Name\n",
    "  * School Type\n",
    "  * Total Students\n",
    "  * Total School Budget\n",
    "  * Per Student Budget\n",
    "  * Average Math Score\n",
    "  * Average Reading Score\n",
    "  * % Passing Math\n",
    "  * % Passing Reading\n",
    "  * Overall Passing Rate (Average of the above two)\n",
    "  \n",
    "* Create a dataframe to hold the above results"
   ]
  },
  {
   "cell_type": "markdown",
   "metadata": {},
   "source": [
    "### Top Performing Schools (By Passing Rate)"
   ]
  },
  {
   "cell_type": "markdown",
   "metadata": {},
   "source": [
    "* Sort and display the top five schools in overall passing rate"
   ]
  },
  {
   "cell_type": "code",
   "execution_count": 33,
   "metadata": {},
   "outputs": [
    {
     "name": "stdout",
     "output_type": "stream",
     "text": [
      "Top Five Schools by Overall Passing Rate:\n",
      "   Total Students  Total School Budget  Per Student Budget  \\\n",
      "0           39170             24649428            24649428   \n",
      "\n",
      "   Average Math Score  Average Reading Score  % Passing Math  \\\n",
      "0           78.985371               81.87784       74.980853   \n",
      "\n",
      "   % Passing Reading                               Overall Passing Rate  \\\n",
      "0           81.87784  0    school_name\n",
      "Bailey High School       9.43...   \n",
      "\n",
      "   Total Math Results                                  Math Passing Rate  \\\n",
      "0               39170  school_name\n",
      "Bailey High School       8.470768\n",
      "...   \n",
      "\n",
      "   Total Reading Results                               Reading Passing Rate  \n",
      "0                  39170  school_name\n",
      "Bailey High School       10.408476...  \n"
     ]
    }
   ],
   "source": [
    "#  Sort and display the top five schools in overall passing rate\n",
    "summary_df_sorted = summary_df.sort_values(by='Overall Passing Rate', ascending=False)\n",
    "\n",
    "top_five_schools = summary_df_sorted.head(5)\n",
    "\n",
    "print(\"Top Five Schools by Overall Passing Rate:\")\n",
    "print(top_five_schools)\n"
   ]
  },
  {
   "cell_type": "code",
   "execution_count": 34,
   "metadata": {
    "scrolled": true
   },
   "outputs": [],
   "source": [
    "# Calculate total school budget\n",
    "total_budget = school_data['budget'].sum()\n"
   ]
  },
  {
   "cell_type": "code",
   "execution_count": 35,
   "metadata": {},
   "outputs": [],
   "source": [
    "# Calculate per student budget\n",
    "# Per Student Budget\n",
    "per_student_budget = total_budget / total_student\n",
    "\n",
    "\n"
   ]
  },
  {
   "cell_type": "code",
   "execution_count": 36,
   "metadata": {},
   "outputs": [],
   "source": [
    "# Cacluate the avg math and reading score\n",
    "passing_math = school_data_complete[school_data_complete['math_score'] >= 70]\n",
    "percent_passing_math = (passing_math['student_name'].count() / total_student) * 100\n",
    "\n",
    "passing_reading = school_data_complete[school_data_complete['reading_score'] >= 70]\n",
    "percent_passing_reading = (passing_reading['student_name'].count() / total_student) * 100"
   ]
  },
  {
   "cell_type": "markdown",
   "metadata": {},
   "source": [
    "#### Find the passing rate for math and reading (above 70 points)"
   ]
  },
  {
   "cell_type": "code",
   "execution_count": 37,
   "metadata": {},
   "outputs": [],
   "source": [
    "# Find the total counts of math result\n",
    "\n",
    "total_math_results = school_data_complete['math_score'].count()\n",
    "\n",
    "# Find the counts for math result in each school that pass 70 or higher\n",
    "\n",
    "passing_math_by_school = school_data_complete[school_data_complete['math_score'] >= 70].groupby('school_name')['math_score'].count()\n",
    "\n",
    "# Calculate the math passing rate\n",
    "\n",
    "math_passing_rate_by_school = (passing_math_by_school / total_math_results) * 100\n"
   ]
  },
  {
   "cell_type": "code",
   "execution_count": 38,
   "metadata": {},
   "outputs": [],
   "source": [
    "# Find the total counts of read result\n",
    "\n",
    "total_reading_results = school_data_complete['reading_score'].count()\n",
    "\n",
    "# Find the counts for read result in each school that pass 70 or higher\n",
    "\n",
    "passing_reading_by_school = school_data_complete[school_data_complete['reading_score'] >= 70].groupby('school_name')['reading_score'].count()\n",
    "\n",
    "# Calculate the read passing rate\n",
    "\n",
    "reading_passing_rate_by_school = (passing_reading_by_school / total_reading_results) * 100\n"
   ]
  },
  {
   "cell_type": "code",
   "execution_count": 39,
   "metadata": {},
   "outputs": [],
   "source": [
    "# Calculate the overall passing rate (average of the math and reading passing rate)\n",
    "\n",
    "summary_df['Overall Passing Rate'] = (summary_df['Math Passing Rate'] + summary_df['Reading Passing Rate']) / 2\n",
    "\n"
   ]
  },
  {
   "cell_type": "code",
   "execution_count": 40,
   "metadata": {},
   "outputs": [
    {
     "name": "stdout",
     "output_type": "stream",
     "text": [
      "   Total Students  Total School Budget  Per Student Budget  \\\n",
      "0           39170             24649428            24649428   \n",
      "\n",
      "   Average Math Score  Average Reading Score  % Passing Math  \\\n",
      "0           78.985371               81.87784       74.980853   \n",
      "\n",
      "   % Passing Reading                               Overall Passing Rate  \\\n",
      "0           81.87784  0    school_name\n",
      "Bailey High School       9.43...   \n",
      "\n",
      "   Total Math Results                                  Math Passing Rate  \\\n",
      "0               39170  school_name\n",
      "Bailey High School       8.470768\n",
      "...   \n",
      "\n",
      "   Total Reading Results                               Reading Passing Rate  \n",
      "0                  39170  school_name\n",
      "Bailey High School       10.408476...  \n"
     ]
    }
   ],
   "source": [
    "summary_df = pd.DataFrame({\n",
    "    'Total Students': [total_student],\n",
    "    'Total School Budget': [total_budget],\n",
    "    'Per Student Budget': [total_budget],\n",
    "    'Average Math Score': [average_math_score],\n",
    "    'Average Reading Score': [average_reading_score],\n",
    "    '% Passing Math': [passing_math_percentage],\n",
    "    '% Passing Reading': [average_reading_score],\n",
    "    'Overall Passing Rate': [overall_average_score],\n",
    "    'Total Math Results':[total_math_results],\n",
    "    'Math Passing Rate':[math_passing_rate_by_school],\n",
    "    'Total Reading Results':[total_reading_results],\n",
    "    'Reading Passing Rate':[reading_passing_rate_by_school],\n",
    "    'Overall Passing Rate':[(summary_df['Math Passing Rate'] + summary_df['Reading Passing Rate']) / 2]\n",
    "})\n",
    "\n",
    "\n",
    "\n",
    "print(summary_df)"
   ]
  },
  {
   "cell_type": "code",
   "execution_count": null,
   "metadata": {},
   "outputs": [],
   "source": []
  },
  {
   "cell_type": "code",
   "execution_count": null,
   "metadata": {},
   "outputs": [],
   "source": []
  },
  {
   "cell_type": "markdown",
   "metadata": {},
   "source": [
    "### Bottom Performing Schools (By Passing Rate)"
   ]
  },
  {
   "cell_type": "markdown",
   "metadata": {},
   "source": [
    "* Sort and display the five worst-performing schools"
   ]
  },
  {
   "cell_type": "code",
   "execution_count": 41,
   "metadata": {},
   "outputs": [
    {
     "name": "stdout",
     "output_type": "stream",
     "text": [
      "Worst Five Schools by Overall Passing Rate:\n",
      "   Total Students  Total School Budget  Per Student Budget  \\\n",
      "0           39170             24649428            24649428   \n",
      "\n",
      "   Average Math Score  Average Reading Score  % Passing Math  \\\n",
      "0           78.985371               81.87784       74.980853   \n",
      "\n",
      "   % Passing Reading                               Overall Passing Rate  \\\n",
      "0           81.87784  0    school_name\n",
      "Bailey High School       9.43...   \n",
      "\n",
      "   Total Math Results                                  Math Passing Rate  \\\n",
      "0               39170  school_name\n",
      "Bailey High School       8.470768\n",
      "...   \n",
      "\n",
      "   Total Reading Results                               Reading Passing Rate  \n",
      "0                  39170  school_name\n",
      "Bailey High School       10.408476...  \n"
     ]
    }
   ],
   "source": [
    "#  Sort and display the worst five schools in overall passing rate\n",
    "summary_df_sorted_worst = summary_df.sort_values(by='Overall Passing Rate', ascending=True)\n",
    "\n",
    "worst_five_schools = summary_df_sorted_worst.head(5)\n",
    "\n",
    "print(\"Worst Five Schools by Overall Passing Rate:\")\n",
    "print(worst_five_schools)"
   ]
  },
  {
   "cell_type": "markdown",
   "metadata": {
    "collapsed": true
   },
   "source": [
    "## Math Scores by Grade"
   ]
  },
  {
   "cell_type": "markdown",
   "metadata": {},
   "source": [
    "* Create a table that lists the average Reading Score for students of each grade level (9th, 10th, 11th, 12th) at each school.\n",
    "\n",
    "  * Create a pandas series for each grade. Hint: use a conditional statement.\n",
    "  \n",
    "  * Group each series by school\n",
    "  \n",
    "  * Combine the series into a dataframe\n",
    "  \n",
    "  * Optional: give the displayed data cleaner formatting"
   ]
  },
  {
   "cell_type": "code",
   "execution_count": 42,
   "metadata": {},
   "outputs": [
    {
     "name": "stdout",
     "output_type": "stream",
     "text": [
      "Average Math Score by Grade:\n",
      "grade                       10th       11th       12th        9th\n",
      "school_name                                                      \n",
      "Bailey High School     76.996772  77.515588  76.492218  77.083676\n",
      "Cabrera High School    83.154506  82.765560  83.277487  83.094697\n",
      "Figueroa High School   76.539974  76.884344  77.151369  76.403037\n",
      "Ford High School       77.672316  76.918058  76.179963  77.361345\n",
      "Griffin High School    84.229064  83.842105  83.356164  82.044010\n",
      "Hernandez High School  77.337408  77.136029  77.186567  77.438495\n",
      "Holden High School     83.429825  85.000000  82.855422  83.787402\n",
      "Huang High School      75.908735  76.446602  77.225641  77.027251\n",
      "Johnson High School    76.691117  77.491653  76.863248  77.187857\n",
      "Pena High School       83.372000  84.328125  84.121547  83.625455\n",
      "Rodriguez High School  76.612500  76.395626  77.690748  76.859966\n",
      "Shelton High School    82.917411  83.383495  83.778976  83.420755\n",
      "Thomas High School     83.087886  83.498795  83.497041  83.590022\n",
      "Wilson High School     83.724422  83.195326  83.035794  83.085578\n",
      "Wright High School     84.010288  83.836782  83.644986  83.264706\n"
     ]
    }
   ],
   "source": [
    "# Create table that lists the average math score for each school of each grade level.\n",
    "average_math_by_grade = school_data_complete.groupby(['school_name', 'grade'])['math_score'].mean().unstack()\n",
    "\n",
    "print(\"Average Math Score by Grade:\")\n",
    "print(average_math_by_grade)\n"
   ]
  },
  {
   "cell_type": "code",
   "execution_count": 43,
   "metadata": {},
   "outputs": [
    {
     "name": "stdout",
     "output_type": "stream",
     "text": [
      "Average Math Score for 9th Grade in Each School:\n",
      "                       Average Math Score (9th Grade)\n",
      "school_name                                          \n",
      "Bailey High School                          77.083676\n",
      "Cabrera High School                         83.094697\n",
      "Figueroa High School                        76.403037\n",
      "Ford High School                            77.361345\n",
      "Griffin High School                         82.044010\n",
      "Hernandez High School                       77.438495\n",
      "Holden High School                          83.787402\n",
      "Huang High School                           77.027251\n",
      "Johnson High School                         77.187857\n",
      "Pena High School                            83.625455\n",
      "Rodriguez High School                       76.859966\n",
      "Shelton High School                         83.420755\n",
      "Thomas High School                          83.590022\n",
      "Wilson High School                          83.085578\n",
      "Wright High School                          83.264706\n"
     ]
    }
   ],
   "source": [
    "# Calculate the average math score for 9th grade in each school\n",
    "average_math_9th_grade = school_data_complete[school_data_complete['grade'] == '9th'].groupby('school_name')['math_score'].mean()\n",
    "\n",
    "average_math_9th_grade_df = pd.DataFrame({'Average Math Score (9th Grade)': average_math_9th_grade})\n",
    "\n",
    "print(\"Average Math Score for 9th Grade in Each School:\")\n",
    "print(average_math_9th_grade_df)"
   ]
  },
  {
   "cell_type": "code",
   "execution_count": 44,
   "metadata": {},
   "outputs": [
    {
     "name": "stdout",
     "output_type": "stream",
     "text": [
      "Average Math Score for 10th Grade in Each School:\n",
      "                       Average Math Score (10th Grade)\n",
      "school_name                                           \n",
      "Bailey High School                           76.996772\n",
      "Cabrera High School                          83.154506\n",
      "Figueroa High School                         76.539974\n",
      "Ford High School                             77.672316\n",
      "Griffin High School                          84.229064\n",
      "Hernandez High School                        77.337408\n",
      "Holden High School                           83.429825\n",
      "Huang High School                            75.908735\n",
      "Johnson High School                          76.691117\n",
      "Pena High School                             83.372000\n",
      "Rodriguez High School                        76.612500\n",
      "Shelton High School                          82.917411\n",
      "Thomas High School                           83.087886\n",
      "Wilson High School                           83.724422\n",
      "Wright High School                           84.010288\n"
     ]
    }
   ],
   "source": [
    "# Calculate the average math score for 10th grade in each school\n",
    "average_math_10th_grade = school_data_complete[school_data_complete['grade'] == '10th'].groupby('school_name')['math_score'].mean()\n",
    "\n",
    "average_math_10th_grade_df = pd.DataFrame({'Average Math Score (10th Grade)': average_math_10th_grade})\n",
    "\n",
    "print(\"Average Math Score for 10th Grade in Each School:\")\n",
    "print(average_math_10th_grade_df)"
   ]
  },
  {
   "cell_type": "code",
   "execution_count": 46,
   "metadata": {},
   "outputs": [
    {
     "name": "stdout",
     "output_type": "stream",
     "text": [
      "Average Math Score for 11th Grade in Each School:\n",
      "                       Average Math Score (11th Grade)\n",
      "school_name                                           \n",
      "Bailey High School                           77.515588\n",
      "Cabrera High School                          82.765560\n",
      "Figueroa High School                         76.884344\n",
      "Ford High School                             76.918058\n",
      "Griffin High School                          83.842105\n",
      "Hernandez High School                        77.136029\n",
      "Holden High School                           85.000000\n",
      "Huang High School                            76.446602\n",
      "Johnson High School                          77.491653\n",
      "Pena High School                             84.328125\n",
      "Rodriguez High School                        76.395626\n",
      "Shelton High School                          83.383495\n",
      "Thomas High School                           83.498795\n",
      "Wilson High School                           83.195326\n",
      "Wright High School                           83.836782\n"
     ]
    }
   ],
   "source": [
    "# Calculate the average math score for 11th grade in each school\n",
    "average_math_11th_grade = school_data_complete[school_data_complete['grade'] == '11th'].groupby('school_name')['math_score'].mean()\n",
    "\n",
    "average_math_11th_grade_df = pd.DataFrame({'Average Math Score (11th Grade)': average_math_11th_grade})\n",
    "\n",
    "print(\"Average Math Score for 11th Grade in Each School:\")\n",
    "print(average_math_11th_grade_df)\n",
    "\n",
    "\n"
   ]
  },
  {
   "cell_type": "code",
   "execution_count": 47,
   "metadata": {},
   "outputs": [
    {
     "name": "stdout",
     "output_type": "stream",
     "text": [
      "Average Math Score for 12th Grade in Each School:\n",
      "                       Average Math Score (12th Grade)\n",
      "school_name                                           \n",
      "Bailey High School                           76.492218\n",
      "Cabrera High School                          83.277487\n",
      "Figueroa High School                         77.151369\n",
      "Ford High School                             76.179963\n",
      "Griffin High School                          83.356164\n",
      "Hernandez High School                        77.186567\n",
      "Holden High School                           82.855422\n",
      "Huang High School                            77.225641\n",
      "Johnson High School                          76.863248\n",
      "Pena High School                             84.121547\n",
      "Rodriguez High School                        77.690748\n",
      "Shelton High School                          83.778976\n",
      "Thomas High School                           83.497041\n",
      "Wilson High School                           83.035794\n",
      "Wright High School                           83.644986\n"
     ]
    }
   ],
   "source": [
    "# Calculate the average math score for 12th grade in each school\n",
    "average_math_12th_grade = school_data_complete[school_data_complete['grade'] == '12th'].groupby('school_name')['math_score'].mean()\n",
    "\n",
    "average_math_12th_grade_df = pd.DataFrame({'Average Math Score (12th Grade)': average_math_12th_grade})\n",
    "\n",
    "print(\"Average Math Score for 12th Grade in Each School:\")\n",
    "print(average_math_12th_grade_df)"
   ]
  },
  {
   "cell_type": "markdown",
   "metadata": {},
   "source": [
    "### Reading Score by Grade "
   ]
  },
  {
   "cell_type": "markdown",
   "metadata": {},
   "source": [
    "* Perform the same operations as above for reading scores"
   ]
  },
  {
   "cell_type": "code",
   "execution_count": 48,
   "metadata": {},
   "outputs": [
    {
     "name": "stdout",
     "output_type": "stream",
     "text": [
      "Average Reading Score by Grade:\n",
      "grade                       10th       11th       12th        9th\n",
      "school_name                                                      \n",
      "Bailey High School     80.907183  80.945643  80.912451  81.303155\n",
      "Cabrera High School    84.253219  83.788382  84.287958  83.676136\n",
      "Figueroa High School   81.408912  80.640339  81.384863  81.198598\n",
      "Ford High School       81.262712  80.403642  80.662338  80.632653\n",
      "Griffin High School    83.706897  84.288089  84.013699  83.369193\n",
      "Hernandez High School  80.660147  81.396140  80.857143  80.866860\n",
      "Holden High School     83.324561  83.815534  84.698795  83.677165\n",
      "Huang High School      81.512386  81.417476  80.305983  81.290284\n",
      "Johnson High School    80.773431  80.616027  81.227564  81.260714\n",
      "Pena High School       83.612000  84.335938  84.591160  83.807273\n",
      "Rodriguez High School  80.629808  80.864811  80.376426  80.993127\n",
      "Shelton High School    83.441964  84.373786  82.781671  84.122642\n",
      "Thomas High School     84.254157  83.585542  83.831361  83.728850\n",
      "Wilson High School     84.021452  83.764608  84.317673  83.939778\n",
      "Wright High School     83.812757  84.156322  84.073171  83.833333\n"
     ]
    }
   ],
   "source": [
    "# Create table that lists the average reading score for each school of each grade level.\n",
    "average_reading_by_grade = school_data_complete.groupby(['school_name', 'grade'])['reading_score'].mean().unstack()\n",
    "\n",
    "print(\"Average Reading Score by Grade:\")\n",
    "print(average_reading_by_grade)\n"
   ]
  },
  {
   "cell_type": "code",
   "execution_count": 49,
   "metadata": {},
   "outputs": [
    {
     "name": "stdout",
     "output_type": "stream",
     "text": [
      "Average Reading Score for 9th Grade in Each School:\n",
      "                       Average Reading Score (9th Grade)\n",
      "school_name                                             \n",
      "Bailey High School                             81.303155\n",
      "Cabrera High School                            83.676136\n",
      "Figueroa High School                           81.198598\n",
      "Ford High School                               80.632653\n",
      "Griffin High School                            83.369193\n",
      "Hernandez High School                          80.866860\n",
      "Holden High School                             83.677165\n",
      "Huang High School                              81.290284\n",
      "Johnson High School                            81.260714\n",
      "Pena High School                               83.807273\n",
      "Rodriguez High School                          80.993127\n",
      "Shelton High School                            84.122642\n",
      "Thomas High School                             83.728850\n",
      "Wilson High School                             83.939778\n",
      "Wright High School                             83.833333\n"
     ]
    }
   ],
   "source": [
    "# Calculate the average reading score for 9th grade in each school\n",
    "average_reading_9th_grade = school_data_complete[school_data_complete['grade'] == '9th'].groupby('school_name')['reading_score'].mean()\n",
    "\n",
    "average_reading_9th_grade_df = pd.DataFrame({'Average Reading Score (9th Grade)': average_reading_9th_grade})\n",
    "\n",
    "print(\"Average Reading Score for 9th Grade in Each School:\")\n",
    "print(average_reading_9th_grade_df)\n",
    "\n"
   ]
  },
  {
   "cell_type": "code",
   "execution_count": 50,
   "metadata": {},
   "outputs": [
    {
     "name": "stdout",
     "output_type": "stream",
     "text": [
      "Average Reading Score for 10th Grade in Each School:\n",
      "                       Average Reading Score (10th Grade)\n",
      "school_name                                              \n",
      "Bailey High School                              80.907183\n",
      "Cabrera High School                             84.253219\n",
      "Figueroa High School                            81.408912\n",
      "Ford High School                                81.262712\n",
      "Griffin High School                             83.706897\n",
      "Hernandez High School                           80.660147\n",
      "Holden High School                              83.324561\n",
      "Huang High School                               81.512386\n",
      "Johnson High School                             80.773431\n",
      "Pena High School                                83.612000\n",
      "Rodriguez High School                           80.629808\n",
      "Shelton High School                             83.441964\n",
      "Thomas High School                              84.254157\n",
      "Wilson High School                              84.021452\n",
      "Wright High School                              83.812757\n"
     ]
    }
   ],
   "source": [
    "# Calculate the average reading score for 10th grade in each school\n",
    "average_reading_10th_grade = school_data_complete[school_data_complete['grade'] == '10th'].groupby('school_name')['reading_score'].mean()\n",
    "\n",
    "average_reading_10th_grade_df = pd.DataFrame({'Average Reading Score (10th Grade)': average_reading_10th_grade})\n",
    "\n",
    "print(\"Average Reading Score for 10th Grade in Each School:\")\n",
    "print(average_reading_10th_grade_df)\n",
    "\n"
   ]
  },
  {
   "cell_type": "code",
   "execution_count": 51,
   "metadata": {},
   "outputs": [
    {
     "name": "stdout",
     "output_type": "stream",
     "text": [
      "Average Reading Score for 11th Grade in Each School:\n",
      "                       Average Reading Score (11th Grade)\n",
      "school_name                                              \n",
      "Bailey High School                              80.945643\n",
      "Cabrera High School                             83.788382\n",
      "Figueroa High School                            80.640339\n",
      "Ford High School                                80.403642\n",
      "Griffin High School                             84.288089\n",
      "Hernandez High School                           81.396140\n",
      "Holden High School                              83.815534\n",
      "Huang High School                               81.417476\n",
      "Johnson High School                             80.616027\n",
      "Pena High School                                84.335938\n",
      "Rodriguez High School                           80.864811\n",
      "Shelton High School                             84.373786\n",
      "Thomas High School                              83.585542\n",
      "Wilson High School                              83.764608\n",
      "Wright High School                              84.156322\n"
     ]
    }
   ],
   "source": [
    "# Calculate the average reading score for 11th grade in each school\n",
    "average_reading_11th_grade = school_data_complete[school_data_complete['grade'] == '11th'].groupby('school_name')['reading_score'].mean()\n",
    "\n",
    "average_reading_11th_grade_df = pd.DataFrame({'Average Reading Score (11th Grade)': average_reading_11th_grade})\n",
    "\n",
    "print(\"Average Reading Score for 11th Grade in Each School:\")\n",
    "print(average_reading_11th_grade_df)\n",
    "\n"
   ]
  },
  {
   "cell_type": "code",
   "execution_count": 52,
   "metadata": {},
   "outputs": [
    {
     "name": "stdout",
     "output_type": "stream",
     "text": [
      "Average Reading Score for 12th Grade in Each School:\n",
      "                       Average Reading Score (12th Grade)\n",
      "school_name                                              \n",
      "Bailey High School                              80.912451\n",
      "Cabrera High School                             84.287958\n",
      "Figueroa High School                            81.384863\n",
      "Ford High School                                80.662338\n",
      "Griffin High School                             84.013699\n",
      "Hernandez High School                           80.857143\n",
      "Holden High School                              84.698795\n",
      "Huang High School                               80.305983\n",
      "Johnson High School                             81.227564\n",
      "Pena High School                                84.591160\n",
      "Rodriguez High School                           80.376426\n",
      "Shelton High School                             82.781671\n",
      "Thomas High School                              83.831361\n",
      "Wilson High School                              84.317673\n",
      "Wright High School                              84.073171\n"
     ]
    }
   ],
   "source": [
    "# Calculate the average reading score for 12th grade in each school\n",
    "average_reading_12th_grade = school_data_complete[school_data_complete['grade'] == '12th'].groupby('school_name')['reading_score'].mean()\n",
    "\n",
    "average_reading_12th_grade_df = pd.DataFrame({'Average Reading Score (12th Grade)': average_reading_12th_grade})\n",
    "\n",
    "print(\"Average Reading Score for 12th Grade in Each School:\")\n",
    "print(average_reading_12th_grade_df)\n",
    "\n"
   ]
  },
  {
   "cell_type": "markdown",
   "metadata": {},
   "source": [
    "## Scores by School Spending"
   ]
  },
  {
   "cell_type": "markdown",
   "metadata": {},
   "source": [
    "* Create a table that breaks down school performances based on average Spending Ranges (Per Student). Use 4 reasonable bins to group school spending. Include in the table each of the following:\n",
    "  * Average Math Score\n",
    "  * Average Reading Score\n",
    "  * % Passing Math\n",
    "  * % Passing Reading\n",
    "  * Overall Passing Rate (Average of the above two)"
   ]
  },
  {
   "cell_type": "code",
   "execution_count": 83,
   "metadata": {},
   "outputs": [],
   "source": [
    "# Sample bins. Feel free to create your own bins.\n",
    "spending_bins = [0, 585, 615, 645, 675]\n",
    "group_names = [\"<$585\", \"$585-615\", \"$615-645\", \"$645-675\"]"
   ]
  },
  {
   "cell_type": "code",
   "execution_count": 84,
   "metadata": {},
   "outputs": [],
   "source": [
    "# Create a new column to show budget per student in each row\n",
    "summary_df['Spending Ranges (Per Student)'] = pd.cut(summary_df['Per Student Budget'], bins=spending_bins, labels=group_names, include_lowest=True)\n",
    "\n"
   ]
  },
  {
   "cell_type": "code",
   "execution_count": 85,
   "metadata": {},
   "outputs": [],
   "source": [
    "# Create a new column to define the spending ranges per student\n",
    "summary_df['Spending Ranges (Per Student)'] = pd.cut(summary_df['Per Student Budget'], bins=spending_bins, labels=group_names, include_lowest=True)\n",
    "\n"
   ]
  },
  {
   "cell_type": "code",
   "execution_count": 86,
   "metadata": {},
   "outputs": [],
   "source": [
    "# Calculate the average math score within each spending range\n",
    "average_math_by_spending = summary_df.groupby('Spending Ranges (Per Student)')['Average Math Score'].mean()\n"
   ]
  },
  {
   "cell_type": "code",
   "execution_count": 90,
   "metadata": {},
   "outputs": [],
   "source": [
    "# Calculate the percentage passing rate for math in each spending range\n",
    "summary_df['Spending Ranges (Per Student)'] = pd.cut(summary_df['Per Student Budget'], bins=spending_bins, labels=group_names, include_lowest=True)\n",
    "\n",
    "summary_df['% Passing Math'] = (summary_df['Math Passing Rate'] / summary_df['Total Students']) * 100\n"
   ]
  },
  {
   "cell_type": "code",
   "execution_count": 92,
   "metadata": {},
   "outputs": [],
   "source": [
    "# Calculate the percentage passing rate for reading in each spending range\n",
    "summary_df['% Passing Reading'] = (summary_df['Reading Passing Rate'] / summary_df['Total Students']) * 100\n",
    "\n"
   ]
  },
  {
   "cell_type": "code",
   "execution_count": 94,
   "metadata": {},
   "outputs": [
    {
     "name": "stdout",
     "output_type": "stream",
     "text": [
      "   Total Students  Total School Budget  Per Student Budget  \\\n",
      "0           39170             24649428            24649428   \n",
      "\n",
      "   Average Math Score  Average Reading Score  \\\n",
      "0           78.985371               81.87784   \n",
      "\n",
      "                                      % Passing Math  \\\n",
      "0  school_name\n",
      "Bailey High School       0.021626\n",
      "...   \n",
      "\n",
      "                                   % Passing Reading  \\\n",
      "0  school_name\n",
      "Bailey High School       0.026573\n",
      "...   \n",
      "\n",
      "                                Overall Passing Rate  Total Math Results  \\\n",
      "0  0    school_name\n",
      "Bailey High School       9.43...               39170   \n",
      "\n",
      "                                   Math Passing Rate  Total Reading Results  \\\n",
      "0  school_name\n",
      "Bailey High School       8.470768\n",
      "...                  39170   \n",
      "\n",
      "                                Reading Passing Rate  \\\n",
      "0  school_name\n",
      "Bailey High School       10.408476...   \n",
      "\n",
      "  Spending Ranges (Per Student)  \\\n",
      "0                           NaN   \n",
      "\n",
      "                              % Overall Passing Rate  \n",
      "0  school_name\n",
      "Bailey High School       0.024099\n",
      "...  \n"
     ]
    }
   ],
   "source": [
    "# Calculate the percentage overall passing rate in each spending range\n",
    "summary_df['% Overall Passing Rate'] = (summary_df['% Passing Math'] + summary_df['% Passing Reading']) / 2\n",
    "\n",
    "print(summary_df)"
   ]
  },
  {
   "cell_type": "markdown",
   "metadata": {},
   "source": [
    "### Scores by School Size"
   ]
  },
  {
   "cell_type": "markdown",
   "metadata": {},
   "source": [
    "* Perform the same operations as above, based on school size."
   ]
  },
  {
   "cell_type": "code",
   "execution_count": 95,
   "metadata": {},
   "outputs": [],
   "source": [
    "# Sample bins. Feel free to create your own bins.\n",
    "size_bins = [0, 1000, 2000, 5000]\n",
    "group_names = [\"Small (<1000)\", \"Medium (1000-2000)\", \"Large (2000-5000)\"]"
   ]
  },
  {
   "cell_type": "code",
   "execution_count": 98,
   "metadata": {
    "scrolled": true
   },
   "outputs": [],
   "source": [
    "# Create a new column for the bin groups\n",
    "summary_df['School Size'] = pd.cut(summary_df['Total Students'], bins=size_bins, labels=group_names, include_lowest=True)"
   ]
  },
  {
   "cell_type": "markdown",
   "metadata": {},
   "source": [
    "Look for the total count of test scores that pass 70% or higher\n",
    "\n",
    "\n"
   ]
  },
  {
   "cell_type": "code",
   "execution_count": 99,
   "metadata": {},
   "outputs": [],
   "source": [
    "# math_pass_size\n",
    "summary_df['Math Passing Count'] = summary_df[summary_df['Average Math Score'] >= 70]['Total Students']\n",
    "\n"
   ]
  },
  {
   "cell_type": "code",
   "execution_count": 100,
   "metadata": {},
   "outputs": [],
   "source": [
    "# read_pass_size\n",
    "summary_df['Reading Passing Count'] = summary_df[summary_df['Average Reading Score'] >= 70]['Total Students']\n",
    "\n"
   ]
  },
  {
   "cell_type": "code",
   "execution_count": 114,
   "metadata": {},
   "outputs": [],
   "source": [
    "# Calculate the overall passing rate for different school size\n",
    "summary_df['% Overall Passing Rate'] = (summary_df['% Passing Math'] + summary_df['% Passing Reading']) / 2\n"
   ]
  },
  {
   "cell_type": "markdown",
   "metadata": {},
   "source": [
    "### Scores by School Type"
   ]
  },
  {
   "cell_type": "markdown",
   "metadata": {},
   "source": [
    "* Perform the same operations as above, based on school type."
   ]
  },
  {
   "cell_type": "code",
   "execution_count": 113,
   "metadata": {},
   "outputs": [
    {
     "name": "stdout",
     "output_type": "stream",
     "text": [
      "Index(['Total Students', 'Total School Budget', 'Per Student Budget',\n",
      "       'Average Math Score', 'Average Reading Score', '% Passing Math',\n",
      "       '% Passing Reading', 'Overall Passing Rate', 'Total Math Results',\n",
      "       'Math Passing Rate', 'Total Reading Results', 'Reading Passing Rate',\n",
      "       'Spending Ranges (Per Student)', '% Overall Passing Rate',\n",
      "       'School Size', 'Math Passing Count', 'Reading Passing Count'],\n",
      "      dtype='object')\n"
     ]
    }
   ],
   "source": [
    "# Create bins and groups, school type {'Charter', 'District'}\n",
    "print(summary_df.columns)\n",
    "\n"
   ]
  },
  {
   "cell_type": "markdown",
   "metadata": {},
   "source": [
    "Find counts of the passing 70 or higher score for the both test\n"
   ]
  },
  {
   "cell_type": "code",
   "execution_count": null,
   "metadata": {},
   "outputs": [],
   "source": [
    "# math pass size\n",
    "\n",
    "\n"
   ]
  },
  {
   "cell_type": "code",
   "execution_count": null,
   "metadata": {},
   "outputs": [],
   "source": [
    "# reading pass size\n",
    "\n"
   ]
  },
  {
   "cell_type": "code",
   "execution_count": null,
   "metadata": {},
   "outputs": [],
   "source": [
    "# Calculate the overall passing rate\n",
    "\n"
   ]
  }
 ],
 "metadata": {
  "anaconda-cloud": {},
  "kernel_info": {
   "name": "python3"
  },
  "kernelspec": {
   "display_name": "Python 3 (ipykernel)",
   "language": "python",
   "name": "python3"
  },
  "language_info": {
   "codemirror_mode": {
    "name": "ipython",
    "version": 3
   },
   "file_extension": ".py",
   "mimetype": "text/x-python",
   "name": "python",
   "nbconvert_exporter": "python",
   "pygments_lexer": "ipython3",
   "version": "3.11.5"
  },
  "latex_envs": {
   "LaTeX_envs_menu_present": true,
   "autoclose": false,
   "autocomplete": true,
   "bibliofile": "biblio.bib",
   "cite_by": "apalike",
   "current_citInitial": 1,
   "eqLabelWithNumbers": true,
   "eqNumInitial": 1,
   "hotkeys": {
    "equation": "Ctrl-E",
    "itemize": "Ctrl-I"
   },
   "labels_anchors": false,
   "latex_user_defs": false,
   "report_style_numbering": false,
   "user_envs_cfg": false
  },
  "nteract": {
   "version": "0.8.4"
  },
  "toc": {
   "base_numbering": 1,
   "nav_menu": {},
   "number_sections": true,
   "sideBar": true,
   "skip_h1_title": false,
   "title_cell": "Table of Contents",
   "title_sidebar": "Contents",
   "toc_cell": false,
   "toc_position": {},
   "toc_section_display": true,
   "toc_window_display": false
  }
 },
 "nbformat": 4,
 "nbformat_minor": 1
}
